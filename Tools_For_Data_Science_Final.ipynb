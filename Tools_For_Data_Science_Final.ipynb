{
  "nbformat": 4,
  "nbformat_minor": 0,
  "metadata": {
    "colab": {
      "name": "Tools For Data Science Final.ipynb",
      "provenance": [],
      "collapsed_sections": [],
      "authorship_tag": "ABX9TyN/TUHsLIVtSWciuhGBeXrs",
      "include_colab_link": true
    },
    "kernelspec": {
      "name": "python3",
      "display_name": "Python 3"
    },
    "language_info": {
      "name": "python"
    }
  },
  "cells": [
    {
      "cell_type": "markdown",
      "metadata": {
        "id": "view-in-github",
        "colab_type": "text"
      },
      "source": [
        "<a href=\"https://colab.research.google.com/github/jt-hunter/IBM-Cert/blob/main/Tools_For_Data_Science_Final.ipynb\" target=\"_parent\"><img src=\"https://colab.research.google.com/assets/colab-badge.svg\" alt=\"Open In Colab\"/></a>"
      ]
    },
    {
      "cell_type": "markdown",
      "source": [
        "#My Jupyter Notebook on IBM Watson Studio"
      ],
      "metadata": {
        "id": "4tT0dDKgpJHN"
      }
    },
    {
      "cell_type": "markdown",
      "source": [
        "**James T.**\n",
        "<br>Data Scientist"
      ],
      "metadata": {
        "id": "HRTcwHF8pT7s"
      }
    },
    {
      "cell_type": "markdown",
      "source": [
        "*I'm interested in data science because of how it can automate tasks at scale. It can get computers to do what used to be jobs only humans could do. Now with greater techniques, co puters can do those jobs and be better at them than humans.*"
      ],
      "metadata": {
        "id": "R_UrqFo_pyMz"
      }
    },
    {
      "cell_type": "markdown",
      "source": [
        "### The cell below adds 10 and 5"
      ],
      "metadata": {
        "id": "X54PlcJ6qvaQ"
      }
    },
    {
      "cell_type": "code",
      "source": [
        "10 + 5"
      ],
      "metadata": {
        "colab": {
          "base_uri": "https://localhost:8080/"
        },
        "id": "JOdDzUS7rI9v",
        "outputId": "16d12d4c-12de-4c2d-beb1-8de9d0fefc57"
      },
      "execution_count": null,
      "outputs": [
        {
          "output_type": "execute_result",
          "data": {
            "text/plain": [
              "15"
            ]
          },
          "metadata": {},
          "execution_count": 1
        }
      ]
    },
    {
      "cell_type": "markdown",
      "source": [
        "Horizontal ruler below\n",
        "___\n",
        "<br>\n",
        "\n",
        "*   Bulleted\n",
        "*   list\n",
        "*   here\n",
        "<br>\n",
        "\n",
        "|Column 1|Column 2|\n",
        "|--------|:-------|\n",
        "|Element |#1      |\n",
        "|Element |#2      |\n",
        "\n",
        "Example of highlighted code `print('example code')` in text\n"
      ],
      "metadata": {
        "id": "R2AbdGGjrTiX"
      }
    }
  ]
}